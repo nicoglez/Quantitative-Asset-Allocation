{
 "cells": [
  {
   "cell_type": "code",
   "execution_count": 1,
   "metadata": {},
   "outputs": [],
   "source": [
    "from functions import download_data, asset_allocation\n"
   ]
  },
  {
   "cell_type": "code",
   "execution_count": 2,
   "metadata": {},
   "outputs": [],
   "source": [
    "USA=\"SPLG, ACWI, IXJ\"\n",
    "MX=\"IUITN.MX\"\n",
    "benchmark=\"^GSPC\"\n",
    "start_date =\"2023-01-01\"\n",
    "end_date=\"2023-07-30\""
   ]
  },
  {
   "cell_type": "code",
   "execution_count": 3,
   "metadata": {},
   "outputs": [
    {
     "name": "stdout",
     "output_type": "stream",
     "text": [
      "[*********************100%***********************]  3 of 3 completed\n",
      "[*********************100%***********************]  1 of 1 completed\n",
      "[*********************100%***********************]  1 of 1 completed\n",
      "[*********************100%***********************]  1 of 1 completed\n"
     ]
    }
   ],
   "source": [
    "data, data_benchmark = download_data(tickers_USA=USA, tickers_MX=MX,benchmark=benchmark, \n",
    "                                    start_date=start_date, end_date=end_date).download()"
   ]
  },
  {
   "cell_type": "code",
   "execution_count": 4,
   "metadata": {},
   "outputs": [
    {
     "data": {
      "text/html": [
       "<div>\n",
       "<style scoped>\n",
       "    .dataframe tbody tr th:only-of-type {\n",
       "        vertical-align: middle;\n",
       "    }\n",
       "\n",
       "    .dataframe tbody tr th {\n",
       "        vertical-align: top;\n",
       "    }\n",
       "\n",
       "    .dataframe thead th {\n",
       "        text-align: right;\n",
       "    }\n",
       "</style>\n",
       "<table border=\"1\" class=\"dataframe\">\n",
       "  <thead>\n",
       "    <tr style=\"text-align: right;\">\n",
       "      <th></th>\n",
       "      <th>ACWI</th>\n",
       "      <th>IXJ</th>\n",
       "      <th>SPLG</th>\n",
       "      <th>IUITN.MX</th>\n",
       "    </tr>\n",
       "    <tr>\n",
       "      <th>Date</th>\n",
       "      <th></th>\n",
       "      <th></th>\n",
       "      <th></th>\n",
       "      <th></th>\n",
       "    </tr>\n",
       "  </thead>\n",
       "  <tbody>\n",
       "    <tr>\n",
       "      <th>2023-01-03</th>\n",
       "      <td>1635.354631</td>\n",
       "      <td>1639.856349</td>\n",
       "      <td>864.505544</td>\n",
       "      <td>300.239990</td>\n",
       "    </tr>\n",
       "    <tr>\n",
       "      <th>2023-01-04</th>\n",
       "      <td>1651.800131</td>\n",
       "      <td>1640.549166</td>\n",
       "      <td>868.970155</td>\n",
       "      <td>300.239990</td>\n",
       "    </tr>\n",
       "    <tr>\n",
       "      <th>2023-01-05</th>\n",
       "      <td>1633.141836</td>\n",
       "      <td>1622.052909</td>\n",
       "      <td>858.037065</td>\n",
       "      <td>300.239990</td>\n",
       "    </tr>\n",
       "    <tr>\n",
       "      <th>2023-01-06</th>\n",
       "      <td>1665.065292</td>\n",
       "      <td>1634.555507</td>\n",
       "      <td>874.374422</td>\n",
       "      <td>300.239990</td>\n",
       "    </tr>\n",
       "    <tr>\n",
       "      <th>2023-01-09</th>\n",
       "      <td>1651.919921</td>\n",
       "      <td>1597.053555</td>\n",
       "      <td>865.202989</td>\n",
       "      <td>305.160004</td>\n",
       "    </tr>\n",
       "    <tr>\n",
       "      <th>...</th>\n",
       "      <td>...</td>\n",
       "      <td>...</td>\n",
       "      <td>...</td>\n",
       "      <td>...</td>\n",
       "    </tr>\n",
       "    <tr>\n",
       "      <th>2023-07-24</th>\n",
       "      <td>1669.252638</td>\n",
       "      <td>1469.295400</td>\n",
       "      <td>906.597381</td>\n",
       "      <td>381.390015</td>\n",
       "    </tr>\n",
       "    <tr>\n",
       "      <th>2023-07-25</th>\n",
       "      <td>1660.063028</td>\n",
       "      <td>1457.140182</td>\n",
       "      <td>901.205907</td>\n",
       "      <td>385.109985</td>\n",
       "    </tr>\n",
       "    <tr>\n",
       "      <th>2023-07-26</th>\n",
       "      <td>1672.188767</td>\n",
       "      <td>1462.466957</td>\n",
       "      <td>906.424804</td>\n",
       "      <td>381.779999</td>\n",
       "    </tr>\n",
       "    <tr>\n",
       "      <th>2023-07-27</th>\n",
       "      <td>1655.385715</td>\n",
       "      <td>1450.338510</td>\n",
       "      <td>897.419083</td>\n",
       "      <td>386.179993</td>\n",
       "    </tr>\n",
       "    <tr>\n",
       "      <th>2023-07-28</th>\n",
       "      <td>1671.232200</td>\n",
       "      <td>1453.062315</td>\n",
       "      <td>905.194638</td>\n",
       "      <td>386.179993</td>\n",
       "    </tr>\n",
       "  </tbody>\n",
       "</table>\n",
       "<p>143 rows × 4 columns</p>\n",
       "</div>"
      ],
      "text/plain": [
       "                   ACWI          IXJ        SPLG    IUITN.MX\n",
       "Date                                                        \n",
       "2023-01-03  1635.354631  1639.856349  864.505544  300.239990\n",
       "2023-01-04  1651.800131  1640.549166  868.970155  300.239990\n",
       "2023-01-05  1633.141836  1622.052909  858.037065  300.239990\n",
       "2023-01-06  1665.065292  1634.555507  874.374422  300.239990\n",
       "2023-01-09  1651.919921  1597.053555  865.202989  305.160004\n",
       "...                 ...          ...         ...         ...\n",
       "2023-07-24  1669.252638  1469.295400  906.597381  381.390015\n",
       "2023-07-25  1660.063028  1457.140182  901.205907  385.109985\n",
       "2023-07-26  1672.188767  1462.466957  906.424804  381.779999\n",
       "2023-07-27  1655.385715  1450.338510  897.419083  386.179993\n",
       "2023-07-28  1671.232200  1453.062315  905.194638  386.179993\n",
       "\n",
       "[143 rows x 4 columns]"
      ]
     },
     "execution_count": 4,
     "metadata": {},
     "output_type": "execute_result"
    }
   ],
   "source": [
    "data"
   ]
  },
  {
   "cell_type": "code",
   "execution_count": 5,
   "metadata": {},
   "outputs": [
    {
     "data": {
      "text/html": [
       "<div>\n",
       "<style scoped>\n",
       "    .dataframe tbody tr th:only-of-type {\n",
       "        vertical-align: middle;\n",
       "    }\n",
       "\n",
       "    .dataframe tbody tr th {\n",
       "        vertical-align: top;\n",
       "    }\n",
       "\n",
       "    .dataframe thead th {\n",
       "        text-align: right;\n",
       "    }\n",
       "</style>\n",
       "<table border=\"1\" class=\"dataframe\">\n",
       "  <thead>\n",
       "    <tr style=\"text-align: right;\">\n",
       "      <th></th>\n",
       "      <th>Adj Close</th>\n",
       "    </tr>\n",
       "    <tr>\n",
       "      <th>Date</th>\n",
       "      <th></th>\n",
       "    </tr>\n",
       "  </thead>\n",
       "  <tbody>\n",
       "    <tr>\n",
       "      <th>2023-01-03</th>\n",
       "      <td>3824.139893</td>\n",
       "    </tr>\n",
       "    <tr>\n",
       "      <th>2023-01-04</th>\n",
       "      <td>3852.969971</td>\n",
       "    </tr>\n",
       "    <tr>\n",
       "      <th>2023-01-05</th>\n",
       "      <td>3808.100098</td>\n",
       "    </tr>\n",
       "    <tr>\n",
       "      <th>2023-01-06</th>\n",
       "      <td>3895.080078</td>\n",
       "    </tr>\n",
       "    <tr>\n",
       "      <th>2023-01-09</th>\n",
       "      <td>3892.090088</td>\n",
       "    </tr>\n",
       "    <tr>\n",
       "      <th>...</th>\n",
       "      <td>...</td>\n",
       "    </tr>\n",
       "    <tr>\n",
       "      <th>2023-07-24</th>\n",
       "      <td>4554.640137</td>\n",
       "    </tr>\n",
       "    <tr>\n",
       "      <th>2023-07-25</th>\n",
       "      <td>4567.459961</td>\n",
       "    </tr>\n",
       "    <tr>\n",
       "      <th>2023-07-26</th>\n",
       "      <td>4566.750000</td>\n",
       "    </tr>\n",
       "    <tr>\n",
       "      <th>2023-07-27</th>\n",
       "      <td>4537.410156</td>\n",
       "    </tr>\n",
       "    <tr>\n",
       "      <th>2023-07-28</th>\n",
       "      <td>4582.229980</td>\n",
       "    </tr>\n",
       "  </tbody>\n",
       "</table>\n",
       "<p>143 rows × 1 columns</p>\n",
       "</div>"
      ],
      "text/plain": [
       "              Adj Close\n",
       "Date                   \n",
       "2023-01-03  3824.139893\n",
       "2023-01-04  3852.969971\n",
       "2023-01-05  3808.100098\n",
       "2023-01-06  3895.080078\n",
       "2023-01-09  3892.090088\n",
       "...                 ...\n",
       "2023-07-24  4554.640137\n",
       "2023-07-25  4567.459961\n",
       "2023-07-26  4566.750000\n",
       "2023-07-27  4537.410156\n",
       "2023-07-28  4582.229980\n",
       "\n",
       "[143 rows x 1 columns]"
      ]
     },
     "execution_count": 5,
     "metadata": {},
     "output_type": "execute_result"
    }
   ],
   "source": [
    "data_benchmark"
   ]
  },
  {
   "cell_type": "code",
   "execution_count": 6,
   "metadata": {},
   "outputs": [],
   "source": [
    "AA=asset_allocation(data, data_benchmark, .05)"
   ]
  },
  {
   "cell_type": "code",
   "execution_count": 7,
   "metadata": {},
   "outputs": [],
   "source": [
    "weights_summary=AA.summary(20000)"
   ]
  },
  {
   "cell_type": "code",
   "execution_count": 8,
   "metadata": {},
   "outputs": [
    {
     "data": {
      "text/html": [
       "<div>\n",
       "<style scoped>\n",
       "    .dataframe tbody tr th:only-of-type {\n",
       "        vertical-align: middle;\n",
       "    }\n",
       "\n",
       "    .dataframe tbody tr th {\n",
       "        vertical-align: top;\n",
       "    }\n",
       "\n",
       "    .dataframe thead th {\n",
       "        text-align: right;\n",
       "    }\n",
       "</style>\n",
       "<table border=\"1\" class=\"dataframe\">\n",
       "  <thead>\n",
       "    <tr style=\"text-align: right;\">\n",
       "      <th>Stocks</th>\n",
       "      <th>ACWI</th>\n",
       "      <th>IXJ</th>\n",
       "      <th>SPLG</th>\n",
       "      <th>IUITN.MX</th>\n",
       "    </tr>\n",
       "  </thead>\n",
       "  <tbody>\n",
       "    <tr>\n",
       "      <th>Min Var</th>\n",
       "      <td>0.109880</td>\n",
       "      <td>0.626228</td>\n",
       "      <td>0.00998</td>\n",
       "      <td>0.253913</td>\n",
       "    </tr>\n",
       "    <tr>\n",
       "      <th>Max Sharpe</th>\n",
       "      <td>0.041535</td>\n",
       "      <td>0.009434</td>\n",
       "      <td>0.08910</td>\n",
       "      <td>0.859931</td>\n",
       "    </tr>\n",
       "  </tbody>\n",
       "</table>\n",
       "</div>"
      ],
      "text/plain": [
       "Stocks          ACWI       IXJ     SPLG  IUITN.MX\n",
       "Min Var     0.109880  0.626228  0.00998  0.253913\n",
       "Max Sharpe  0.041535  0.009434  0.08910  0.859931"
      ]
     },
     "execution_count": 8,
     "metadata": {},
     "output_type": "execute_result"
    }
   ],
   "source": [
    "weights_summary"
   ]
  },
  {
   "cell_type": "code",
   "execution_count": null,
   "metadata": {},
   "outputs": [],
   "source": []
  }
 ],
 "metadata": {
  "kernelspec": {
   "display_name": "Python 3 (ipykernel)",
   "language": "python",
   "name": "python3"
  },
  "language_info": {
   "codemirror_mode": {
    "name": "ipython",
    "version": 3
   },
   "file_extension": ".py",
   "mimetype": "text/x-python",
   "name": "python",
   "nbconvert_exporter": "python",
   "pygments_lexer": "ipython3",
   "version": "3.11.0"
  }
 },
 "nbformat": 4,
 "nbformat_minor": 1
}
